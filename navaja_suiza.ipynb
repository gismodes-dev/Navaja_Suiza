{
  "nbformat": 4,
  "nbformat_minor": 0,
  "metadata": {
    "colab": {
      "provenance": [],
      "authorship_tag": "ABX9TyMHka//VJMgvMgMOjx+7WOq",
      "include_colab_link": true
    },
    "kernelspec": {
      "name": "python3",
      "display_name": "Python 3"
    },
    "language_info": {
      "name": "python"
    }
  },
  "cells": [
    {
      "cell_type": "markdown",
      "metadata": {
        "id": "view-in-github",
        "colab_type": "text"
      },
      "source": [
        "<a href=\"https://colab.research.google.com/github/gismodes-dev/Navaja_Suiza/blob/main/navaja_suiza.ipynb\" target=\"_parent\"><img src=\"https://colab.research.google.com/assets/colab-badge.svg\" alt=\"Open In Colab\"/></a>"
      ]
    },
    {
      "cell_type": "markdown",
      "source": [
        "#Navaja Suiza (v1.0.1)"
      ],
      "metadata": {
        "id": "HuVBS_SXKv8d"
      }
    },
    {
      "cell_type": "markdown",
      "source": [
        "## EDA (Exploratory Data Analysis)"
      ],
      "metadata": {
        "id": "R2i1lO_ZNwyF"
      }
    },
    {
      "cell_type": "markdown",
      "source": [
        "### Carga de Librerias Principales para tratamiento de **Datos**"
      ],
      "metadata": {
        "id": "7B2hZmbXNIiT"
      }
    },
    {
      "cell_type": "code",
      "source": [
        "import pandas as pd\n",
        "import numpy as np\n",
        "import matplotlib.pyplot as plt\n",
        "import seaborn as sns"
      ],
      "metadata": {
        "id": "eakHj22yNMOG"
      },
      "execution_count": null,
      "outputs": []
    },
    {
      "cell_type": "markdown",
      "source": [
        "### Entendimiento de datos Inicial\n",
        "* Ver columnas de DataFrame\n",
        "* Información general del DataFrame\n",
        "* Resumen estadístico del DataFrame\n",
        "* Contar Valores Faltantes en cada columna\n",
        "* Elimina una columna en especifico del dataframe\n",
        "* Concatena 2 tablas una al lado de otra"
      ],
      "metadata": {
        "id": "AwIsPiTRNStN"
      }
    },
    {
      "cell_type": "markdown",
      "source": [
        "Ver las primeras filas del DataFrame"
      ],
      "metadata": {
        "id": "-uXCAlgSOk4s"
      }
    },
    {
      "cell_type": "code",
      "source": [
        "print(data.head())"
      ],
      "metadata": {
        "id": "W1tba8i0OnKT"
      },
      "execution_count": null,
      "outputs": []
    },
    {
      "cell_type": "markdown",
      "source": [
        "Información general del DataFrame"
      ],
      "metadata": {
        "id": "AfuTkr43OoKs"
      }
    },
    {
      "cell_type": "code",
      "source": [
        "print(data.info())"
      ],
      "metadata": {
        "id": "Zi7t-IJtOrot"
      },
      "execution_count": null,
      "outputs": []
    },
    {
      "cell_type": "markdown",
      "source": [
        "Resumen estadístico del DataFrame"
      ],
      "metadata": {
        "id": "f34Y9Sf5OsvF"
      }
    },
    {
      "cell_type": "code",
      "source": [
        "print(data.describe())"
      ],
      "metadata": {
        "id": "NZuWSR-eOvLt"
      },
      "execution_count": null,
      "outputs": []
    },
    {
      "cell_type": "markdown",
      "source": [
        "Contar valores faltantes en cada columna"
      ],
      "metadata": {
        "id": "Wu1mORdrOvpZ"
      }
    },
    {
      "cell_type": "code",
      "source": [
        "print(data.isnull().sum())"
      ],
      "metadata": {
        "id": "S2wKiw67OxJn"
      },
      "execution_count": null,
      "outputs": []
    },
    {
      "cell_type": "markdown",
      "source": [
        "Elimina una columna en especifico del dataframe\n"
      ],
      "metadata": {
        "id": "0qAas3s1YfK4"
      }
    },
    {
      "cell_type": "code",
      "source": [
        "data = data.drop(['columna'], axis = 1)"
      ],
      "metadata": {
        "id": "0hCCNGvFYiAA"
      },
      "execution_count": null,
      "outputs": []
    },
    {
      "cell_type": "markdown",
      "source": [
        "Concatena 2 tablas una al lado de otra"
      ],
      "metadata": {
        "id": "rtaq6qLnYoUB"
      }
    },
    {
      "cell_type": "code",
      "source": [
        "sii_dummies = pd.concat([data1,data2], axis = 1)"
      ],
      "metadata": {
        "id": "8zpmYF1lYnjc"
      },
      "execution_count": null,
      "outputs": []
    },
    {
      "cell_type": "markdown",
      "source": [
        "Concatenar 2 columnas en 1 creando una nueva\n",
        "\n",
        "---\n",
        "\n",
        "Se crea una nueva columna en base a 2 columnas ya existentes para unir valores"
      ],
      "metadata": {
        "id": "XWK8xADKY3V_"
      }
    },
    {
      "cell_type": "code",
      "source": [
        "data['rut_completo'] = data['RUT'].astype(str) + '-' + data['DV']\n",
        "data.head()"
      ],
      "metadata": {
        "id": "AMPXy5h5Y3AT"
      },
      "execution_count": null,
      "outputs": []
    },
    {
      "cell_type": "markdown",
      "source": [
        "### Gráficos de Visualización Inicial para entendimiento de los Datos y análisis estadístico\n",
        "* Visualizar distribución de una columna numérica\n",
        "* Visualizar la correlación entre columnas numéricas\n",
        "* Visualizar valores faltantes en un mapa de calor\n",
        "* Gráfico de barras para columnas categóricas\n",
        "* Boxplot para identificar valores atípicos\n",
        "* Scatter plot para visualizar relación entre dos variables numéricas\n",
        "* Matriz de dispersión para visualizar relaciones entre múltiples variables numéricas"
      ],
      "metadata": {
        "id": "v8t5fwQ9NaiM"
      }
    },
    {
      "cell_type": "markdown",
      "source": [
        "Visualizar distribución de una columna numérica"
      ],
      "metadata": {
        "id": "7bnsH8TdPeLq"
      }
    },
    {
      "cell_type": "code",
      "source": [
        "plt.figure(figsize=(8, 6))\n",
        "sns.histplot(data['Columna_numerica'], bins=30, kde=True)\n",
        "plt.title('Distribución de Columna Numerica')\n",
        "plt.show()"
      ],
      "metadata": {
        "id": "c3Pj4Q7MPnT1"
      },
      "execution_count": null,
      "outputs": []
    },
    {
      "cell_type": "markdown",
      "source": [
        "Visualizar la correlación entre columnas numéricas"
      ],
      "metadata": {
        "id": "-IGEWi54QNIf"
      }
    },
    {
      "cell_type": "code",
      "source": [
        "plt.figure(figsize=(10, 8))\n",
        "sns.heatmap(data.corr(), annot=True, cmap='coolwarm', fmt='.2f')\n",
        "plt.title('Correlación entre columnas numéricas')\n",
        "plt.show()"
      ],
      "metadata": {
        "id": "Ph-zNqTfQQb1"
      },
      "execution_count": null,
      "outputs": []
    },
    {
      "cell_type": "markdown",
      "source": [
        "Visualizar valores faltantes en un mapa de calor"
      ],
      "metadata": {
        "id": "a5u_h4xcQSij"
      }
    },
    {
      "cell_type": "code",
      "source": [
        "plt.figure(figsize=(8, 6))\n",
        "sns.heatmap(data.isnull(), cbar=False, cmap='viridis')\n",
        "plt.title('Valores Faltantes')\n",
        "plt.show()"
      ],
      "metadata": {
        "id": "u7iANumZQUQY"
      },
      "execution_count": null,
      "outputs": []
    },
    {
      "cell_type": "markdown",
      "source": [
        "Gráfico de barras para columnas categóricas"
      ],
      "metadata": {
        "id": "j-hD0QWuQVIe"
      }
    },
    {
      "cell_type": "code",
      "source": [
        "plt.figure(figsize=(10, 6))\n",
        "sns.countplot(x='Columna_categorica', data=data)\n",
        "plt.title('Gráfico de Barras para Columna Categórica')\n",
        "plt.xticks(rotation=45)\n",
        "plt.show()"
      ],
      "metadata": {
        "id": "BOyN-oRHQXIk"
      },
      "execution_count": null,
      "outputs": []
    },
    {
      "cell_type": "markdown",
      "source": [
        "Boxplot para identificar valores atípicos"
      ],
      "metadata": {
        "id": "zmv7G0SGQYq1"
      }
    },
    {
      "cell_type": "code",
      "source": [
        "plt.figure(figsize=(8, 6))\n",
        "sns.boxplot(x='Columna_numerica', data=data)\n",
        "plt.title('Boxplot para Columna Numerica')\n",
        "plt.show()"
      ],
      "metadata": {
        "id": "V8YFSiTuQaPv"
      },
      "execution_count": null,
      "outputs": []
    },
    {
      "cell_type": "markdown",
      "source": [
        "Scatter plot para visualizar relación entre dos variables numéricas"
      ],
      "metadata": {
        "id": "pzrpRbJGQbnL"
      }
    },
    {
      "cell_type": "code",
      "source": [
        "plt.figure(figsize=(8, 6))\n",
        "sns.scatterplot(x='Columna1', y='Columna2', data=data)\n",
        "plt.title('Scatter Plot para Columna1 vs Columna2')\n",
        "plt.show()"
      ],
      "metadata": {
        "id": "dM1LxU3WQd1a"
      },
      "execution_count": null,
      "outputs": []
    },
    {
      "cell_type": "markdown",
      "source": [
        "Matriz de dispersión para visualizar relaciones entre múltiples variables numéricas"
      ],
      "metadata": {
        "id": "aeF-aocEQgzC"
      }
    },
    {
      "cell_type": "code",
      "source": [
        "sns.pairplot(data, diag_kind='kde')\n",
        "plt.suptitle('Matriz de Dispersión')\n",
        "plt.show()"
      ],
      "metadata": {
        "id": "qm_3QQocQgU4"
      },
      "execution_count": null,
      "outputs": []
    },
    {
      "cell_type": "markdown",
      "source": [
        "### Modificación de información de Columnas con valores NAN\n",
        "\n",
        "* Cambiar el tipo de columna de object (string) a float\n",
        "* Cambiar el tipo de columna de object (string) a int\n",
        "* Reemplazar valores faltantes (NaN) en la columna 'Columna_str'\n",
        "* Reemplazar valores nulos ('nan') en la columna 'Columna_float' por el valor 0\n",
        "* Visualizar el DataFrame con las columnas modificadas y valores reemplazados\n",
        "* Reemplazar 'Null' por NaN"
      ],
      "metadata": {
        "id": "BdSDdxY4RQVJ"
      }
    },
    {
      "cell_type": "markdown",
      "source": [
        "Cambiar el tipo de columna de object (string) a float con NA"
      ],
      "metadata": {
        "id": "efAYShicR4o-"
      }
    },
    {
      "cell_type": "code",
      "source": [
        "df['Columna_float'] = df['Columna_float'].replace('nan', np.nan).astype(float)"
      ],
      "metadata": {
        "id": "L4NFXFPQR6I0"
      },
      "execution_count": null,
      "outputs": []
    },
    {
      "cell_type": "markdown",
      "source": [
        "Cambiar el tipo de columna de object (string) a int con NA"
      ],
      "metadata": {
        "id": "JSpZP1fKR7ah"
      }
    },
    {
      "cell_type": "code",
      "source": [
        "df['Columna_int'] = df['Columna_int'].replace('nan', np.nan).astype(float).astype(pd.Int32Dtype())"
      ],
      "metadata": {
        "id": "tzSMvGc-R9zU"
      },
      "execution_count": null,
      "outputs": []
    },
    {
      "cell_type": "markdown",
      "source": [
        "Reemplazar valores faltantes (NaN) en la columna 'Columna_str'"
      ],
      "metadata": {
        "id": "jiJY3Qn8R_Wt"
      }
    },
    {
      "cell_type": "code",
      "source": [
        "df['Columna_str'] = df['Columna_str'].fillna('No disponible')"
      ],
      "metadata": {
        "id": "dOvznQ0oSCn-"
      },
      "execution_count": null,
      "outputs": []
    },
    {
      "cell_type": "markdown",
      "source": [
        "Reemplazar valores nulos ('nan') en la columna 'Columna_float' por el valor 0"
      ],
      "metadata": {
        "id": "MrUWIcHoSH_K"
      }
    },
    {
      "cell_type": "code",
      "source": [
        "df['Columna_float'] = df['Columna_float'].replace(np.nan, 0)"
      ],
      "metadata": {
        "id": "9ZmayhHzSLRK"
      },
      "execution_count": null,
      "outputs": []
    },
    {
      "cell_type": "markdown",
      "source": [
        "Visualizar el DataFrame con las columnas modificadas y valores reemplazados"
      ],
      "metadata": {
        "id": "_rMTqcOUSNB2"
      }
    },
    {
      "cell_type": "code",
      "source": [
        "print(\"\\nDataFrame con columnas modificadas y valores reemplazados:\")\n",
        "print(df)"
      ],
      "metadata": {
        "id": "tJR1gq7ESNfA"
      },
      "execution_count": null,
      "outputs": []
    },
    {
      "cell_type": "markdown",
      "source": [
        "Reemplazar 'Null' por NaN"
      ],
      "metadata": {
        "id": "KroSVPIlTL2S"
      }
    },
    {
      "cell_type": "code",
      "execution_count": null,
      "metadata": {
        "id": "JyT39UDHKdQB"
      },
      "outputs": [],
      "source": [
        "maydf['Weight'] = maydf['Weight'].replace('Null', np.nan)"
      ]
    },
    {
      "cell_type": "markdown",
      "source": [
        "### Convertir formato de origen de columnas\n",
        "* Cambiar el tipo de columna de float a object (string)\n",
        "* Cambiar el tipo de columna de int a object (string)\n",
        "* Visualizar el DataFrame con las columnas modificadas a objetos (strings)\n",
        "* Cambiar el tipo de columna de object a float (float)"
      ],
      "metadata": {
        "id": "WkrSXUh4UlBB"
      }
    },
    {
      "cell_type": "markdown",
      "source": [
        "Cambiar el tipo de columna de float a object (string)"
      ],
      "metadata": {
        "id": "k1l3QJmlReBu"
      }
    },
    {
      "cell_type": "code",
      "source": [
        "df['Columna_float'] = df['Columna_float'].astype(str)"
      ],
      "metadata": {
        "id": "yPAlHGToRY97"
      },
      "execution_count": null,
      "outputs": []
    },
    {
      "cell_type": "markdown",
      "source": [
        "Cambiar el tipo de columna de int a object (string)"
      ],
      "metadata": {
        "id": "BTR34GiQRyY1"
      }
    },
    {
      "cell_type": "code",
      "source": [
        "df['Columna_int'] = df['Columna_int'].astype(str)"
      ],
      "metadata": {
        "id": "QExj5X-JRz_Z"
      },
      "execution_count": null,
      "outputs": []
    },
    {
      "cell_type": "markdown",
      "source": [
        "Visualizar el DataFrame con las columnas modificadas a objetos (strings)"
      ],
      "metadata": {
        "id": "Zopej0TyR1Y7"
      }
    },
    {
      "cell_type": "code",
      "source": [
        "print(\"\\nDataFrame con columnas modificadas a objetos:\")\n",
        "print(df)"
      ],
      "metadata": {
        "id": "7wPGrJ3tR3QQ"
      },
      "execution_count": null,
      "outputs": []
    },
    {
      "cell_type": "markdown",
      "source": [
        "Cambiar el tipo de columna de object a float (float)\n",
        "\n",
        "---\n",
        "\n",
        "* Opcion 1: Se convierte la columna a tipo float utilizando pd.to_numeric con el parámetro errors='coerce', lo que convierte cualquier valor no numérico (incluidos los 'Null' convertidos a NaN) en NaN\n",
        "\n",
        "* Opcion 2:\n",
        "  * Utilizamos la función str.replace() para eliminar todos los caracteres no numéricos y dejar solo los dígitos y el punto decimal.\n",
        "  * `[^\\d.]` es una expresión regular que significa \"todo lo que no sea un dígito o un punto\". De esta manera, limpiamos la columna de cualquier carácter que no sea válido para la conversión a float.\n",
        "  *  Utilizamos `pd.to_numeric()` para convertir la columna 'Weight' a tipo float.\n",
        "  * El parámetro errors='coerce' hace que los valores no válidos (por ejemplo, cadenas que no se pueden convertir a float) sean reemplazados por NaN.\n",
        "  * El parámetro `downcast='float'` asegura que los valores se almacenen como float en lugar de double, lo que puede ahorrar memoria si tus datos son lo suficientemente pequeños.\n",
        "* Opcion 3:\n",
        "  * Con `downcast='integer'`, aseguramos que los valores se conviertan a tipo int."
      ],
      "metadata": {
        "id": "KGgypkkKLFW2"
      }
    },
    {
      "cell_type": "code",
      "source": [
        "# Opcion 1\n",
        "maydf['Weight'] = pd.to_numeric(maydf['Weight'], errors='coerce')\n",
        "# Opcion 2\n",
        "maydf['Weight'] = pd.to_numeric(maydf['Weight'].str.replace('[^\\d.]', '', regex=True), errors='coerce', downcast='float')\n",
        "#Opcion 3\n",
        "maydf['Weight'] = pd.to_numeric(maydf['Weight'].str.replace('[^\\d]', '', regex=True), errors='coerce', downcast='integer')"
      ],
      "metadata": {
        "id": "kB-8JgMJKoRu"
      },
      "execution_count": null,
      "outputs": []
    },
    {
      "cell_type": "markdown",
      "source": [
        "### Conteo de registros en una columna\n",
        "* Contar la cantidad de datos de tipo float (puede ser del tipo que sea)\n",
        "* Contar la cantidad de valores NaN del DataFrame\n",
        "* Imprimir la cantidad de refistros de cada tipo anterior registrados en la \"Columna\" para revisar la totalidad de los registros cambiados\n",
        "* Conseguir valores unicos de una columna especifica"
      ],
      "metadata": {
        "id": "60Ry08maLRoP"
      }
    },
    {
      "cell_type": "markdown",
      "source": [
        "Contar la cantidad de datos de tipo float (puede ser del tipo que sea)"
      ],
      "metadata": {
        "id": "hESj9cZAXkYi"
      }
    },
    {
      "cell_type": "code",
      "source": [
        "cantidad_float = maydf['Weight'].astype(float).count()"
      ],
      "metadata": {
        "id": "cvwJ4wALKqMI"
      },
      "execution_count": null,
      "outputs": []
    },
    {
      "cell_type": "markdown",
      "source": [
        "Contar la cantidad de valores NaN del DataFrame"
      ],
      "metadata": {
        "id": "eZSsnCgfXppP"
      }
    },
    {
      "cell_type": "code",
      "source": [
        "cantidad_nan = maydf['Weight'].isna().sum()"
      ],
      "metadata": {
        "id": "wozuOC5rKr3_"
      },
      "execution_count": null,
      "outputs": []
    },
    {
      "cell_type": "markdown",
      "source": [
        "Imprimir la cantidad de refistros de cada tipo anterior registrados en la \"Columna\" para revisar la totalidad de los registros cambiados"
      ],
      "metadata": {
        "id": "khdMQ9_-LaBV"
      }
    },
    {
      "cell_type": "code",
      "source": [
        "print(f\"Cantidad de datos de tipo float en la columna 'Weight': {cantidad_float}\")\n",
        "print(f\"Cantidad de valores NaN en la columna 'Weight': {cantidad_nan}\")"
      ],
      "metadata": {
        "id": "cMKhXIUpKuEO"
      },
      "execution_count": null,
      "outputs": []
    },
    {
      "cell_type": "markdown",
      "source": [
        "Conseguir valores unicos de una columna especifica\n"
      ],
      "metadata": {
        "id": "VBh00KxxqR42"
      }
    },
    {
      "cell_type": "code",
      "source": [
        "print('Numero de Unicos ruts: ', ts_2010_2014['rut_completo'].unique().shape[0])"
      ],
      "metadata": {
        "id": "qrLOPKOoqXlt"
      },
      "execution_count": null,
      "outputs": []
    },
    {
      "cell_type": "markdown",
      "source": [
        "### Exportar Registro de datos modificados\n",
        "* Exporta el dataframe a formato csv"
      ],
      "metadata": {
        "id": "-jsrfvh9X7jT"
      }
    },
    {
      "cell_type": "markdown",
      "source": [
        "Exporta el dataframe a formato csv"
      ],
      "metadata": {
        "id": "hF6L_mZcYPGT"
      }
    },
    {
      "cell_type": "code",
      "source": [
        "data_final.to_csv('../data_final.csv')"
      ],
      "metadata": {
        "id": "IkTolZo4YKNi"
      },
      "execution_count": null,
      "outputs": []
    }
  ]
}